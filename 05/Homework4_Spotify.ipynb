{
 "cells": [
  {
   "cell_type": "code",
   "execution_count": 1,
   "metadata": {
    "collapsed": false
   },
   "outputs": [],
   "source": [
    "# 1) With \"Lil Wayne\" and \"Lil Kim\" there are a lot of \"Lil\" musicians. Do a search and print a list of 50 that are playable in the USA (or the country of your choice), along with their popularity score.\n",
    "# 2) What genres are most represented in the search results? Edit your previous printout to also display a list of their genres in the format \"GENRE_1, GENRE_2, GENRE_3\". If there are no genres, print \"No genres listed\".\n",
    "\n",
    "import requests\n",
    "response = requests.get('https://api.spotify.com/v1/search?query=Lil&type=artist&market=US&limit=50')\n",
    "data = response.json()\n"
   ]
  },
  {
   "cell_type": "code",
   "execution_count": 9,
   "metadata": {
    "collapsed": false
   },
   "outputs": [
    {
     "name": "stdout",
     "output_type": "stream",
     "text": [
      "#1 Lil Wayne 86 dirty south rap, pop rap, southern hip hop, trap music\n",
      "#2 Lil Yachty 72 No genres listed\n",
      "#3 Lil Uzi Vert 72 No genres listed\n",
      "#4 Lil Dicky 68 No genres listed\n",
      "#5 Boosie Badazz 67 No genres listed\n",
      "#6 Lil Jon 72 crunk, dirty south rap, southern hip hop\n",
      "#7 King Lil G 61 No genres listed\n",
      "#8 Lil Durk 60 No genres listed\n",
      "#9 Lil Jon & The East Side Boyz 60 No genres listed\n",
      "#10 Lil Bibby 54 No genres listed\n",
      "#11 G Herbo 53 No genres listed\n",
      "#12 Lil Rob 50 chicano rap, latin hip hop\n",
      "#13 Lil Reese 50 No genres listed\n",
      "#14 Lil Keke 48 No genres listed\n",
      "#15 Bow Wow 57 hip pop, pop rap\n",
      "#16 Lil Scrappy 49 crunk, dirty south rap, southern hip hop, trap music\n",
      "#17 Lil Wyte 50 juggalo\n",
      "#18 Lil Blood 45 No genres listed\n",
      "#19 Lil Snupe 45 No genres listed\n",
      "#20 Lil Mama 45 hip pop\n",
      "#21 Lil B 44 No genres listed\n",
      "#22 Lil' Kim 62 hip pop\n",
      "#23 Lil Cuete 40 chicano rap\n",
      "#24 Lil Phat 39 No genres listed\n",
      "#25 Lil Debbie 43 No genres listed\n",
      "#26 Lil Twist 39 jerk\n",
      "#27 Lil Trill 37 deep trap\n",
      "#28 Lil Twon 38 No genres listed\n",
      "#29 Lil AJ 37 No genres listed\n",
      "#30 Lil Lonnie 36 No genres listed\n",
      "#31 Lil Goofy 35 No genres listed\n",
      "#32 Mr. Lil One 36 chicano rap\n",
      "#33 Lil Haiti 36 No genres listed\n",
      "#34 Lil Flash 38 No genres listed\n",
      "#35 Lil Kesh 39 No genres listed\n",
      "#36 Lil Cray 35 No genres listed\n",
      "#37 Lil Rue 34 No genres listed\n",
      "#38 Lil Silva 43 No genres listed\n",
      "#39 Lil Eddie 41 No genres listed\n",
      "#40 Lil Boom 34 No genres listed\n",
      "#41 Lil Yase 33 No genres listed\n",
      "#42 Lil Wayne, DJ Drama 35 No genres listed\n",
      "#43 Lil Suzy 34 freestyle\n",
      "#44 Lil Mouse 34 No genres listed\n",
      "#45 Lil C 33 No genres listed\n",
      "#46 Lil Rick 39 soca\n",
      "#47 Lil E 34 No genres listed\n",
      "#48 Lil June 32 No genres listed\n",
      "#49 Lil Fate 34 No genres listed\n",
      "#50 Lil' Flip 49 crunk, dirty south rap\n",
      "\n",
      "\n",
      "The genre “chicano rap” appears 3 times.\n",
      "The genre “freestyle” appears once.\n",
      "The genre “jerk” appears once.\n",
      "The genre “crunk” appears 3 times.\n",
      "The genre “southern hip hop” appears 3 times.\n",
      "The genre “soca” appears once.\n",
      "The genre “latin hip hop” appears once.\n",
      "The genre “trap music” appears 2 times.\n",
      "The genre “dirty south rap” appears 4 times.\n",
      "The genre “juggalo” appears once.\n",
      "The genre “deep trap” appears once.\n",
      "The genre “hip pop” appears 3 times.\n",
      "The genre “pop rap” appears 2 times.\n"
     ]
    }
   ],
   "source": [
    "artists = data['artists']['items']\n",
    "genre_list = []\n",
    "count = 1\n",
    "for artist in artists:\n",
    "    genres = 'No genres listed'\n",
    "    if len(artist['genres']) > 0:\n",
    "        genres = str.join(\", \", artist['genres'])\n",
    "        genre_list.extend(artist['genres'])\n",
    "    print(\"#\" + str(count), artist['name'], artist['popularity'], genres)\n",
    "    count += 1\n",
    "\n",
    "print(\"\\n\")\n",
    "for genre in set(genre_list):\n",
    "    theCount = genre_list.count(genre)\n",
    "    if theCount == 1:\n",
    "        print(\"The genre\", \"“\" + genre + \"”\", \"appears once.\")\n",
    "    else:\n",
    "        print(\"The genre\", \"“\" + genre + \"”\", \"appears\", theCount, \"times.\")\n",
    "\n"
   ]
  },
  {
   "cell_type": "code",
   "execution_count": 8,
   "metadata": {
    "collapsed": false
   },
   "outputs": [
    {
     "name": "stdout",
     "output_type": "stream",
     "text": [
      "The most popular besides Lil Wayne is Lil Yachty\n",
      "She has 37031 followers.\n",
      "With 255836 followers, Lil Jon does much better.\n",
      "Following artists are more popular than Lil' Kim: Lil Wayne, Lil Yachty, Lil Uzi Vert, Lil Dicky, Boosie Badazz, Lil Jon.\n"
     ]
    }
   ],
   "source": [
    "# 3) Use a for loop to determine who BESIDES Lil Wayne has the highest popularity rating.\n",
    "# Is it the same artist who has the largest number of followers?\n",
    "\n",
    "# we scan the 'popularity' and 'followers' values\n",
    "max_popularity = 0\n",
    "most_popular_index = 0\n",
    "max_followers = 0\n",
    "most_followers_index = 0\n",
    "\n",
    "max_range = len(artists)-1\n",
    "\n",
    "for index in range(1, max_range): # we start at 1 to skip Lil Wayne\n",
    "    if artists[index]['popularity'] > max_popularity:\n",
    "        max_popularity = artists[index]['popularity']\n",
    "        most_popular_index = index\n",
    "    if artists[index]['followers']['total'] > max_followers:\n",
    "        max_followers = artists[index]['followers']['total']\n",
    "        most_followers_index = index\n",
    "\n",
    "print(\"The most popular besides Lil Wayne is\", artists[most_popular_index]['name'])\n",
    "print(\"She has\", artists[most_popular_index]['followers']['total'], \"followers.\")\n",
    "print(\"With\", artists[most_followers_index]['followers']['total'], \"followers,\", artists[most_followers_index]['name'], 'does much better.')\n",
    "\n",
    "# 4) Print a list of Lil's that are more popular than Lil' Kim.\n",
    "\n",
    "# Lik' Kim has a popularity of 62.\n",
    "\n",
    "more_popular = []\n",
    "for artist in artists:\n",
    "    if artist['popularity'] > 62:\n",
    "        more_popular.append(artist['name'])\n",
    "        #print(artist['name'], artist['popularity'])\n",
    "print(\"Following artists are more popular than Lil' Kim:\", str.join(', ', more_popular) + \".\")\n"
   ]
  },
  {
   "cell_type": "code",
   "execution_count": 21,
   "metadata": {
    "collapsed": false
   },
   "outputs": [
    {
     "name": "stdout",
     "output_type": "stream",
     "text": [
      "Lil Uzi Vert's top tracks: Money Longer, You Was Right, Top, 7am, Ps & Qs, All My Chains, Super Saiyan, Enemies, Canadian Goose, Right Now\n",
      "Lil Boat's top tracks: One Night (Extended), Minnesota (Remix) [feat. Quavo, Skippa da Flippa & Young Thug], Wanna Be Us (feat. Burberry Perry), Intro (Just Keep Swimming), Up Next 2 (feat. Big Brutha Chubba & Byou), Good Day (feat. Skippa da Flippa), Not My Bro, Fucked Over, Out Late, Interlude\n"
     ]
    }
   ],
   "source": [
    "# 5) Pick two of your favorite Lils to fight it out, and use their IDs to print out their top tracks.\n",
    "# Tip: You're going to be making two separate requests, be sure you DO NOT save them into the same variable.\n",
    "\n",
    "# Let's pick up 4O15NlyKLIASxsJ0PrXPfz and 6icQOAFXDZKsumw3YXyusw\n",
    "\n",
    "lil_1 = requests.get('https://api.spotify.com/v1/artists/4O15NlyKLIASxsJ0PrXPfz/top-tracks?country=US')\n",
    "lil_1_data = lil_1.json()\n",
    "\n",
    "lil_1_topTracks = []\n",
    "for topTrack in lil_1_data['tracks']:\n",
    "    lil_1_topTracks.append(topTrack['name'])\n",
    "\n",
    "print(\"Lil Uzi Vert's top tracks:\", str.join(', ', lil_1_topTracks))\n",
    "\n",
    "lil_2 = requests.get('https://api.spotify.com/v1/artists/6icQOAFXDZKsumw3YXyusw/top-tracks?country=US')\n",
    "lil_2_data = lil_2.json()\n",
    "\n",
    "lil_2_topTracks = []\n",
    "for topTrack in lil_2_data['tracks']:\n",
    "    lil_2_topTracks.append(topTrack['name'])\n",
    "\n",
    "print(\"Lil Boat's top tracks:\", str.join(', ', lil_2_topTracks))\n"
   ]
  },
  {
   "cell_type": "code",
   "execution_count": 56,
   "metadata": {
    "collapsed": false
   },
   "outputs": [
    {
     "name": "stdout",
     "output_type": "stream",
     "text": [
      "The average popularity of Lil Uzi Vert's explicit tracks is 64.0 and the average popularity of her non-explicit tracks is 0.\n",
      "Lil Uzi Vert has 34.83 minutes of explicit songs and 0.00 of non-explicit songs.\n",
      "The average popularity of Lil Boat's explicit tracks is 60.1 and the average popularity of her non-explicit tracks is 0.\n",
      "Lil Boat has 31.16 minutes of explicit songs and 0.00 of non-explicit songs.\n"
     ]
    }
   ],
   "source": [
    "# 6) Will the world explode if a musicians swears?\n",
    "# Get an average popularity for their explicit songs vs. their non-explicit songs.\n",
    "\n",
    "tracks_count_Vert = {'exp': 0, 'non-exp': 0}\n",
    "tracks_popularity_Vert = {'exp': 0, 'non-exp': 0}\n",
    "tracks_ms_Vert = {'exp': 0, 'non-exp': 0}\n",
    "\n",
    "for topTrack in lil_1_data['tracks']:\n",
    "    if topTrack['explicit'] == True:\n",
    "        tracks_count_Vert['exp'] += 1\n",
    "        tracks_popularity_Vert['exp'] += topTrack['popularity'] # currently: a sum\n",
    "        tracks_ms_Vert['exp'] += topTrack['duration_ms']\n",
    "    else:\n",
    "        tracks_count_Vert['non-exp'] += 1\n",
    "        tracks_popularity_Vert['non-exp'] += topTrack['popularity'] # currently: a sum\n",
    "        tracks_ms_Vert['non-exp'] += topTrack['duration_ms']\n",
    "\n",
    "if tracks_count_Vert['exp'] > 0: # prevent division by 0\n",
    "    tracks_popularity_Vert['exp'] /= tracks_count_Vert['exp']\n",
    "\n",
    "if tracks_count_Vert['non-exp'] > 0:\n",
    "    tracks_popularity_Vert['non-exp'] /= tracks_count_Vert['non-exp']\n",
    "\n",
    "print(\"The average popularity of Lil Uzi Vert's explicit tracks is\", tracks_popularity_Vert['exp'], \"and the average popularity of her non-explicit tracks is\", str(tracks_popularity_Vert['non-exp']) + '.')\n",
    "\n",
    "# How many minutes of explicit songs do they have? Non-explicit?\n",
    "\n",
    "print(\"Lil Uzi Vert has\", \"%.2f\" % (tracks_ms_Vert['exp']/60000), \"minutes of explicit songs and\", \"%.2f\" % (tracks_ms_Vert['non-exp']/60000), \"of non-explicit songs.\")\n",
    "\n",
    "\n",
    "tracks_count_Boat = {'exp': 0, 'non-exp': 0}\n",
    "tracks_popularity_Boat = {'exp': 0, 'non-exp': 0}\n",
    "tracks_ms_Boat = {'exp': 0, 'non-exp': 0}\n",
    "\n",
    "for topTrack in lil_2_data['tracks']:\n",
    "    if topTrack['explicit'] == True:\n",
    "        tracks_count_Boat['exp'] += 1\n",
    "        tracks_popularity_Boat['exp'] += topTrack['popularity'] # currently: a sum\n",
    "        tracks_ms_Boat['exp'] += topTrack['duration_ms']\n",
    "    else:\n",
    "        tracks_count_Boat['non-exp'] += 1\n",
    "        tracks_popularity_Boat['non-exp'] += topTrack['popularity'] # currently: a sum\n",
    "        tracks_ms_Boat['non-exp'] += topTrack['duration_ms']\n",
    "\n",
    "if tracks_count_Boat['exp'] > 0: # prevent division by 0\n",
    "    tracks_popularity_Boat['exp'] /= tracks_count_Boat['exp']\n",
    "\n",
    "if tracks_count_Boat['non-exp'] > 0:\n",
    "    tracks_popularity_Boat['non-exp'] /= tracks_count_Boat['non-exp']\n",
    "\n",
    "print(\"The average popularity of Lil Boat's explicit tracks is\", tracks_popularity_Boat['exp'], \"and the average popularity of her non-explicit tracks is\", str(tracks_popularity_Boat['non-exp']) + '.')\n",
    "\n",
    "# How many minutes of explicit songs do they have? Non-explicit?\n",
    "\n",
    "print(\"Lil Boat has\", \"%.2f\" % (tracks_ms_Boat['exp']/60000), \"minutes of explicit songs and\", \"%.2f\" % (tracks_ms_Boat['non-exp']/60000), \"of non-explicit songs.\")\n",
    "\n"
   ]
  },
  {
   "cell_type": "code",
   "execution_count": 91,
   "metadata": {
    "collapsed": false
   },
   "outputs": [
    {
     "name": "stdout",
     "output_type": "stream",
     "text": [
      "There is 4500 results for “Lil” and 49 for “Biggie”.\n"
     ]
    }
   ],
   "source": [
    "# 7) Since we're talking about Lils, what about Biggies? How many total \"Biggie\" artists are there? How many total \"Lil\"s?\n",
    "# If you made 1 request every 5 seconds, how long would it take to download information on all the Lils vs the Biggies?\n",
    "\n",
    "print(\"There is\", data['artists']['total'], \"results for “Lil” and\", dataBig['artists']['total'], \"for “Biggie”.\")\n",
    "\n",
    "# to be fair, we target the US market again\n",
    "responseBig = requests.get('https://api.spotify.com/v1/search?query=Biggie&type=artist&market=US&limit=50')\n",
    "dataBig = responseBig.json()\n"
   ]
  },
  {
   "cell_type": "code",
   "execution_count": 90,
   "metadata": {
    "collapsed": false
   },
   "outputs": [
    {
     "name": "stdout",
     "output_type": "stream",
     "text": [
      "The top 50 “Lil” is more popular, with an average popularity of 46.08 vs. 19.2.\n"
     ]
    }
   ],
   "source": [
    "# 8) Out of the top 50 \"Lil\"s and the top 50 \"Biggie\"s, who is more popular on average?\n",
    "\n",
    "artistsBig = dataBig['artists']['items']\n",
    "\n",
    "sumPopLil = 0\n",
    "for artistLil in artists:\n",
    "    sumPopLil += artistLil['popularity']\n",
    "\n",
    "sumPopBig = 0\n",
    "for artistBig in artistsBig:\n",
    "    sumPopBig += artistBig['popularity']\n",
    "\n",
    "print(\"The top 50 “Lil” is more popular, with an average popularity of\", sumPopLil / len(artists), \"vs.\", str(sumPopBig / len(artistBig)) + \".\")\n",
    "\n"
   ]
  },
  {
   "cell_type": "code",
   "execution_count": 40,
   "metadata": {
    "collapsed": false,
    "scrolled": true
   },
   "outputs": [
    {
     "name": "stdout",
     "output_type": "stream",
     "text": [
      "[86, 72, 72, 68, 67, 72, 61, 60, 60, 54, 53, 50, 50, 48, 57, 49, 50, 45, 45, 45, 44, 62, 40, 39, 43, 39, 37, 38, 37, 36, 35, 36, 36, 38, 39, 35, 34, 43, 41, 34, 33, 35, 34, 34, 33, 39, 34, 32, 34, 49]\n"
     ]
    },
    {
     "data": {
      "text/html": [
       "<style>.chart div {  font: 10px sans-serif;  background-color: steelblue;  text-align: right;  padding: 3px;  margin: 1px;  color: white;}</style><div class=\"chart\"></div><script src=\"http://d3js.org/d3.v3.min.js\"></script><script>var lil_data = [86, 72, 72, 68, 67, 72, 61, 60, 60, 54, 53, 50, 50, 48, 57, 49, 50, 45, 45, 45, 44, 62, 40, 39, 43, 39, 37, 38, 37, 36, 35, 36, 36, 38, 39, 35, 34, 43, 41, 34, 33, 35, 34, 34, 33, 39, 34, 32, 34, 49];var lil_names = ['Lil Wayne', 'Lil Yachty', 'Lil Uzi Vert', 'Lil Dicky', 'Boosie Badazz', 'Lil Jon', 'King Lil G', 'Lil Durk', 'Lil Jon & The East Side Boyz', 'Lil Bibby', 'G Herbo', 'Lil Rob', 'Lil Reese', 'Lil Keke', 'Bow Wow', 'Lil Scrappy', 'Lil Wyte', 'Lil Blood', 'Lil Snupe', 'Lil Mama', 'Lil B', \"Lil' Kim\", 'Lil Cuete', 'Lil Phat', 'Lil Debbie', 'Lil Twist', 'Lil Trill', 'Lil Twon', 'Lil AJ', 'Lil Lonnie', 'Lil Goofy', 'Mr. Lil One', 'Lil Haiti', 'Lil Flash', 'Lil Kesh', 'Lil Cray', 'Lil Rue', 'Lil Silva', 'Lil Eddie', 'Lil Boom', 'Lil Yase', 'Lil Wayne, DJ Drama', 'Lil Suzy', 'Lil Mouse', 'Lil C', 'Lil Rick', 'Lil E', 'Lil June', 'Lil Fate', \"Lil' Flip\"];var x = d3.scale.linear()    .domain([0, d3.max(lil_data)])    .range([0, 420]);d3.select(\".chart\")  .selectAll(\"div\")    .data(lil_data)  .enter().append(\"div\")    .style(\"width\", function(d) { return x(d) + \"px\"; })    .text(function(d, i) { return lil_names[i] + \": \" + d; });</script></body></html>"
      ],
      "text/plain": [
       "<IPython.core.display.HTML object>"
      ]
     },
     "execution_count": 40,
     "metadata": {},
     "output_type": "execute_result"
    }
   ],
   "source": [
    "# LIL' GRAPHICS\n",
    "# # Just a simple bar graph of their various popularities sounds good to me.\n",
    "\n",
    "# NB: Maybe you'll need to run this code twice in order for d3.js to be fully loaded\n",
    "\n",
    "from IPython.display import HTML\n",
    "\n",
    "artistNames = []\n",
    "artistPop = []\n",
    "for artistLil in artists:\n",
    "    artistNames.append(artistLil['name'])\n",
    "    artistPop.append(artistLil['popularity'])\n",
    "\n",
    "print(str(artistPop))\n",
    "    \n",
    "html = []\n",
    "html.append('<style>.chart div {  font: 10px sans-serif;  background-color: steelblue;  text-align: right;  padding: 3px;  margin: 1px;  color: white;}</style><div class=\"chart\"></div><script src=\"http://d3js.org/d3.v3.min.js\"></script>')\n",
    "html.append('<script>')\n",
    "html.append('var lil_data = ' + str(artistPop) + ';')\n",
    "html.append('var lil_names = ' + str(artistNames) + ';')\n",
    "html.append('var x = d3.scale.linear()    .domain([0, d3.max(lil_data)])    .range([0, 420]);d3.select(\".chart\")  .selectAll(\"div\")    .data(lil_data)  .enter().append(\"div\")    .style(\"width\", function(d) { return x(d) + \"px\"; })    .text(function(d, i) { return lil_names[i] + \": \" + d; });</script></body></html>')\n",
    "\n",
    "d3Graph = str.join('', html)\n",
    "\n",
    "HTML(d3Graph)\n"
   ]
  },
  {
   "cell_type": "code",
   "execution_count": 92,
   "metadata": {
    "collapsed": false
   },
   "outputs": [
    {
     "name": "stdout",
     "output_type": "stream",
     "text": [
      "Search for…\n",
      "Queens\n",
      "20 results!\n",
      "#1 Queens of the Stone Age\n",
      "#2 Christine and the Queens\n",
      "#3 Queensrÿche\n",
      "#4 Jamaican Queens\n",
      "#5 Queens\n",
      "#6 Baby Queens\n",
      "#7 Queensland Symphony Orchestra\n",
      "#8 New Queen's Hall Orchestra\n",
      "#9 Naomi Shelton & the Gospel Queens\n",
      "#10 Queenston\n",
      "#11 Mahotella Queens\n",
      "#12 The Teen Queens\n",
      "#13 2 Dope Queens\n",
      "#14 Wednesday 13's Frankenstein Drag Queens From Planet 13\n",
      "#15 Queens of Dogtown\n",
      "#16 Queen's Hall Light Orchestra\n",
      "#17 Queens Club\n",
      "#18 The Queensland Orchestra\n",
      "#19 Queensbay\n",
      "#20 Queensberry\n",
      "\n",
      "Which one do you want?\n",
      "18\n",
      "\n",
      "Retrieving information about The Queensland Orchestra...\n",
      "\n",
      "Top tracks: Concierto de Aranjuez: II. Adagio, Concierto de Aranjuez: I. Allegro con spirito, Concierto de Aranjuez: III. Allegro gentile, Tosca: E lucevan le stelle (And the stars were shining), Fantasía para un gentilhombre: I. Villano y ricercare (Adagietto – Andante moderato), Concierto madrigal: VII. Fandango (Molto ritmico), Fantasía para un gentilhombre: II. Españoleta e fanfare de la caballería de Napoles (Adagio – Allegretto – Tempo de españoleta), La bohème: Che gelida manina (Your little hand is frozen), La bohème: Sì, mi chiamano Mimì (Yes, they call me Mimì), Fantasía para un gentilhombre: IV. Danza de las hachas (Allegro con brio) - Canario (Allegro ma non troppo)\n",
      "\n",
      " 20 albums found.\n",
      "The album “50 Best – Grieg” is the most popular, with a popularity score of 46.\n",
      "The album “Songs of Sea and Sky” is the least popular, with a popularity score of 0.\n"
     ]
    }
   ],
   "source": [
    "# SEARCH ENGINE\n",
    "# \n",
    "# Make a non-IPython Notebook that automates browsing for top tracks\n",
    "# Prompts for an artist\n",
    "\n",
    "requested_artist = input(\"Search for…\\n\")\n",
    "search_result = requests.get('https://api.spotify.com/v1/search?query=' + requested_artist + '&type=artist')\n",
    "search_result_data = search_result.json()\n",
    "artists_result = search_result_data['artists']['items']\n",
    "length_result = len(artists_result)\n",
    "print(length_result, \"results!\")\n",
    "for i in range(1, length_result+1):\n",
    "    print('#' + str(i), artists_result[i-1]['name'])\n",
    "\n",
    "# you put it in, displays the results, asks which one you want (numbered)\n",
    "wanted_artist = input(\"\\nWhich one do you want?\\n\")\n",
    "\n",
    "# Never trust users\n",
    "try:\n",
    "    wanted_artist_int = int(wanted_artist)-1\n",
    "except ValueError:\n",
    "    print(\"Next time, please choose an integer. I picked up number 1 for you.\")\n",
    "    wanted_artist_int = 0\n",
    "\n",
    "if wanted_artist_int < 0 or wanted_artist_int > length_result-1:\n",
    "    print(\"This number is out of range.\")\n",
    "else:\n",
    "    wanted_artist_id = artists_result[wanted_artist_int]['id']\n",
    "    print(\"\\nRetrieving information about\", artists_result[wanted_artist_int]['name'] + \"...\\n\")\n",
    "    \n",
    "# Display their top tracks\n",
    "    wanted_tracks = requests.get('https://api.spotify.com/v1/artists/' + wanted_artist_id + '/top-tracks?country=US')\n",
    "    wanted_tracks_data = wanted_tracks.json()\n",
    "    theTrackResults = []\n",
    "    for topTrack in wanted_tracks_data['tracks']:\n",
    "        theTrackResults.append(topTrack['name'])\n",
    "    if len(theTrackResults) > 1:\n",
    "        print(\"Top tracks:\", str.join(', ', theTrackResults))\n",
    "    else:\n",
    "        print(\"Top track:\", str.join(', ', theTrackResults))\n",
    "\n",
    "    # Their MOST popular album and their least popular album.\n",
    "    \n",
    "    # 1) We retreive the ids of the albums\n",
    "    wanted_albums = requests.get('https://api.spotify.com/v1/artists/' + wanted_artist_id + '/albums')\n",
    "    wanted_albums_data = wanted_albums.json()\n",
    "    album_id_list = []\n",
    "    for album in wanted_albums_data['items']:\n",
    "        album_id_list.append(album['id'])\n",
    "\n",
    "    # 2) We load these albums to get their popularity\n",
    "    search_result = requests.get('https://api.spotify.com/v1/albums/?ids=' + str.join(',',album_id_list))\n",
    "    search_result_data = search_result.json()\n",
    "    albums = search_result_data['albums']\n",
    "\n",
    "    album_hits = len(albums)\n",
    "    if(album_hits) < 1:\n",
    "        print(\"No album could be retrieved.\")\n",
    "    elif(album_hits) == 1:\n",
    "        print(\"This artist has only one album on Spotify: “\" + str(albums[0]['name']) + \"”.\")\n",
    "    else:    \n",
    "        album_popularity = []\n",
    "        album_name = []\n",
    "        for album in albums:\n",
    "            album_popularity.append(album['popularity'])\n",
    "            album_name.append(album['name'])\n",
    "        \n",
    "        print(\"\\n\", album_hits, \"albums found.\")\n",
    "        most_popular_album_index = album_popularity.index(max(album_popularity))\n",
    "        least_popular_album_index = album_popularity.index(min(album_popularity))\n",
    "        \n",
    "        \n",
    "        print(\"The album “\" + album_name[most_popular_album_index] + \"” is the most popular, with a popularity score of\", str(album_popularity[most_popular_album_index]) + \".\")\n",
    "        print(\"The album “\" + album_name[least_popular_album_index] + \"” is the least popular, with a popularity score of\", str(album_popularity[least_popular_album_index]) + \".\")"
   ]
  }
 ],
 "metadata": {
  "kernelspec": {
   "display_name": "Python 3",
   "language": "python",
   "name": "python3"
  },
  "language_info": {
   "codemirror_mode": {
    "name": "ipython",
    "version": 3
   },
   "file_extension": ".py",
   "mimetype": "text/x-python",
   "name": "python",
   "nbconvert_exporter": "python",
   "pygments_lexer": "ipython3",
   "version": "3.5.1"
  }
 },
 "nbformat": 4,
 "nbformat_minor": 0
}
