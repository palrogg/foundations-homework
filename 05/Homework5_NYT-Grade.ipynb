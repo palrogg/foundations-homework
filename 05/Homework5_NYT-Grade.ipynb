{
 "cells": [
  {
   "cell_type": "markdown",
   "metadata": {},
   "source": [
    "Graded = 8/8"
   ]
  },
  {
   "cell_type": "code",
   "execution_count": 1,
   "metadata": {
    "collapsed": false
   },
   "outputs": [
    {
     "name": "stdout",
     "output_type": "stream",
     "text": [
      "\n",
      "May 10, 2009:\n",
      "FIRST FAMILY by David Baldacci\n",
      "TEA TIME FOR THE TRADITIONALLY BUILT by Alexander McCall Smith\n",
      "LOITERING WITH INTENT by Stuart Woods\n",
      "JUST TAKE MY HEART by Mary Higgins Clark\n",
      "THE PERFECT POISON by Amanda Quick\n",
      "THE HOST by Stephenie Meyer\n",
      "LOOK AGAIN by Lisa Scottoline\n",
      "DEADLOCK by Iris Johansen\n",
      "LONG LOST by Harlan Coben\n",
      "TURN COAT by Jim Butcher\n",
      "THE ASSOCIATE by John Grisham\n",
      "HANDLE WITH CARE by Jodi Picoult\n",
      "THE HELP by Kathryn Stockett\n",
      "THE GUERNSEY LITERARY AND POTATO PEEL PIE SOCIETY by Mary Ann Shaffer and Annie Barrows\n",
      "FATALLY FLAKY by Diane Mott Davidson\n",
      "ARTHAS by Christie Golden\n",
      "A RELIABLE WIFE by Robert Goolrick\n",
      "BORDERLINE by Nevada Barr\n",
      "ONE SECOND AFTER by William R Forstchen\n",
      "BONEMAN'S DAUGHTERS by Ted Dekker\n",
      "\n",
      "May 9, 2010:\n",
      "DELIVER US FROM EVIL by David Baldacci\n",
      "THE HELP by Kathryn Stockett\n",
      "THE DOUBLE COMFORT SAFARI CLUB by Alexander McCall Smith\n",
      "THIS BODY OF DEATH by Elizabeth George\n",
      "LUCID INTERVALS by Stuart Woods\n",
      "THE SHADOW OF YOUR SMILE by Mary Higgins Clark\n",
      "BURNING LAMP by Amanda Quick\n",
      "EVERY LAST ONE by Anna Quindlen\n",
      "EIGHT DAYS TO LIVE by Iris Johansen\n",
      "CHANGES by Jim Butcher\n",
      "CAUGHT by Harlan Coben\n",
      "HOUSE RULES by Jodi Picoult\n",
      "MATTERHORN by Karl Marlantes\n",
      "THE WALK by Richard Paul Evans\n",
      "DECEPTION by Jonathan Kellerman\n",
      "BEATRICE AND VIRGIL by Yann Martel\n",
      "WRECKED by Carol Higgins Clark\n",
      "SILVER BORNE by Patricia Briggs\n",
      "ABRAHAM LINCOLN: VAMPIRE HUNTER by Seth Grahame-Smith\n",
      "A RIVER IN THE SKY by Elizabeth Peters\n",
      "\n",
      "June 21, 2009:\n",
      "SKIN TRADE by Laurell K Hamilton\n",
      "MEDUSA by Clive Cussler and Paul Kemprecos\n",
      "THE SCARECROW by Michael Connelly\n",
      "SHANGHAI GIRLS by Lisa See\n",
      "MATTERS OF THE HEART by Danielle Steel\n",
      "GONE TOMORROW by Lee Child\n",
      "DEAD AND GONE by Charlaine Harris\n",
      "THE 8TH CONFESSION by James Patterson and Maxine Paetro\n",
      "THE STRAIN by Guillermo del Toro and Chuck Hogan\n",
      "WICKED PREY by John Sandford\n",
      "THE HOST by Stephenie Meyer\n",
      "FIRST FAMILY by David Baldacci\n",
      "CEMETERY DANCE by Douglas Preston and Lincoln Child\n",
      "UNDEAD AND UNWELCOME by MaryJanice Davidson\n",
      "THE HELP by Kathryn Stockett\n",
      "PYGMY by Chuck Palahniuk\n",
      "MY FATHER'S TEARS AND OTHER STORIES by John Updike\n",
      "ROAD DOGS by Elmore Leonard\n",
      "THE STORY SISTERS by Alice Hoffman\n",
      "HEARTLESS by Diana Palmer\n",
      "\n",
      "June 20, 2010\n",
      "THE GIRL WHO KICKED THE HORNET’S NEST by Stieg Larsson\n",
      "BULLET by Laurell K Hamilton\n",
      "THE SPY by Clive Cussler and Justin Scott\n",
      "THE HELP by Kathryn Stockett\n",
      "DEAD IN THE FAMILY by Charlaine Harris\n",
      "61 HOURS by Lee Child\n",
      "THE BURNING WIRE by Jeffery Deaver\n",
      "STORM PREY by John Sandford\n",
      "THE BOURNE OBJECTIVE by Eric Van Lustbader\n",
      "INNOCENT by Scott Turow\n",
      "HEART OF THE MATTER by Emily Giffin\n",
      "THE 9TH JUDGMENT by James Patterson and Maxine Paetro\n",
      "BLOCKADE BILLY by Stephen King\n",
      "ALLIES by Christie Golden\n",
      "THE RULE OF NINE by Steve Martini\n",
      "FEVER DREAM by Lincoln Child and Douglas Preston\n",
      "DELIVER US FROM EVIL by David Baldacci\n",
      "MATTERHORN by Karl Marlantes\n",
      "THE PARTICULAR SADNESS OF LEMON CAKE by Aimee Bender\n",
      "DANGEROUS by Diana Palmer\n"
     ]
    }
   ],
   "source": [
    "#All API's: http://developer.nytimes.com/\n",
    "#Article search API: http://developer.nytimes.com/article_search_v2.json\n",
    "#Best-seller API: http://developer.nytimes.com/books_api.json#/Documentation\n",
    "#Test/build queries: http://developer.nytimes.com/\n",
    "\n",
    "# 1) What books topped the Hardcover Fiction NYT best-sellers list on Mother's Day in 2009 and 2010?\n",
    "# How about Father's Day?\n",
    "\n",
    "import requests\n",
    "\n",
    "def printBestSellers( date ):\n",
    "    url = \"https://api.nytimes.com/svc/books/v3/lists//.json\"\n",
    "    url += \"?api-key=71621eb479f045bf8bee783b6943fdd4\"\n",
    "    url += \"&date=\" + date\n",
    "    url += \"&list-name=hardcover-fiction\"\n",
    "\n",
    "    response = requests.get(url)\n",
    "    data = response.json()\n",
    "    books = data['results']\n",
    "    for book in books:\n",
    "        print(book['book_details'][0]['title'], \"by\", book['book_details'][0]['author'])\n",
    "    return\n",
    "\n",
    "print(\"\\nMay 10, 2009:\")\n",
    "printBestSellers(\"2009-05-10\")\n",
    "print(\"\\nMay 9, 2010:\")\n",
    "printBestSellers(\"2010-05-09\")\n",
    "print(\"\\nJune 21, 2009:\")\n",
    "printBestSellers(\"2009-06-21\")\n",
    "print(\"\\nJune 20, 2010\")\n",
    "printBestSellers(\"2010-06-20\")\n",
    "\n"
   ]
  },
  {
   "cell_type": "code",
   "execution_count": 2,
   "metadata": {
    "collapsed": false
   },
   "outputs": [
    {
     "name": "stdout",
     "output_type": "stream",
     "text": [
      "The NYT ranked 14 different book categories in June 6, 2009:\n",
      "Hardcover Fiction, Hardcover Nonfiction, Trade Fiction Paperback, Mass Market Paperback, Paperback Nonfiction, Hardcover Advice, Paperback Advice, Chapter Books, Paperback Books, Picture Books, Series Books, Hardcover Graphic Books, Paperback Graphic Books, Manga.\n",
      "\n",
      "The NYT ranked 39 different book categories in June 6, 2015:\n",
      "Combined Print and E-Book Fiction, Combined Print and E-Book Nonfiction, Hardcover Fiction, Hardcover Nonfiction, Trade Fiction Paperback, Mass Market Paperback, Paperback Nonfiction, E-Book Fiction, E-Book Nonfiction, Advice How-To and Miscellaneous, Childrens Middle Grade, Picture Books, Series Books, Young Adult, Hardcover Graphic Books, Paperback Graphic Books, Manga, Animals, Business Books, Celebrities, Crime and Punishment, Culture, Education, Espionage, Expeditions Disasters and Adventures, Fashion Manners and Customs, Food and Fitness, Games and Activities, Health, Humor, Indigenous Americans, Relationships, Family, Hardcover Political Books, Race and Civil Rights, Religion Spirituality and Faith, Science, Sports, Travel.\n",
      "\n"
     ]
    }
   ],
   "source": [
    "# 2) What are all the different book categories the NYT ranked in June 6, 2009? How about June 6, 2015?\n",
    "def printBestSellerRanks( date ):\n",
    "    url = \"https://api.nytimes.com/svc/books/v3/lists/names.json\"\n",
    "    url += \"?api-key=71621eb479f045bf8bee783b6943fdd4\"\n",
    "    url += \"&date=\" + date\n",
    "\n",
    "    response = requests.get(url)\n",
    "    data = response.json()\n",
    "    \n",
    "    print(\"The NYT ranked\", data['num_results'], \"different book categories in June 6, \" + date[:4] +\":\")\n",
    "    categories = data['results']\n",
    "    categories_list = []\n",
    "    \n",
    "    for category in categories:\n",
    "        categories_list.append(category['list_name'])\n",
    "\n",
    "    print(str.join(', ', categories_list) + \".\\n\")\n",
    "    \n",
    "    return\n",
    "\n",
    "printBestSellerRanks(\"2009-06-06\")\n",
    "printBestSellerRanks(\"2015-06-06\")\n",
    "\n"
   ]
  },
  {
   "cell_type": "code",
   "execution_count": 3,
   "metadata": {
    "collapsed": false
   },
   "outputs": [
    {
     "name": "stdout",
     "output_type": "stream",
     "text": [
      "Searching for “Gadafi”…\n",
      "0 hits found.\n",
      "Searching for “Gaddafi”…\n",
      "1080 hits found.\n",
      "Searching for “Kadafi”…\n",
      "4 hits found.\n",
      "Searching for “Qaddafi”…\n",
      "5761 hits found.\n"
     ]
    }
   ],
   "source": [
    "# 3) Muammar Gaddafi's name can be transliterated many many ways. His last name is often a source of a million and one versions - Gadafi, Gaddafi, Kadafi, and Qaddafi to name a few. How many times has the New York Times referred to him by each of those names?\n",
    "# Tip: Add \"Libya\" to your search to make sure (-ish) you're talking about the right guy.\n",
    "\n",
    "\n",
    "def searchFor( query ):\n",
    "    print(\"Searching for “\" + query + \"”…\")\n",
    "    url = \"https://api.nytimes.com/svc/search/v2/articlesearch.json\"\n",
    "    url += \"?api-key=71621eb479f045bf8bee783b6943fdd4\"\n",
    "    url += \"&q=\" + query + \" libya\"\n",
    "    \n",
    "    response = requests.get(url)\n",
    "    data = response.json()\n",
    "    print(data['response']['meta']['hits'], \"hits found.\")\n",
    "    return\n",
    "\n",
    "searchFor(\"Gadafi\")\n",
    "searchFor(\"Gaddafi\")\n",
    "searchFor(\"Kadafi\")\n",
    "searchFor(\"Qaddafi\")\n",
    "\n"
   ]
  },
  {
   "cell_type": "code",
   "execution_count": 4,
   "metadata": {
    "collapsed": false
   },
   "outputs": [
    {
     "name": "stdout",
     "output_type": "stream",
     "text": [
      "SOUND\n",
      "Portable record players with built-in speakers, from the 1960's, are the latest points on hipster score cards. In some cases, they are the only way to listen to many of the old LP or 45-r.p.m. recordings still around but not released on cassette or CD. Usually available in white plastic or metal, they can be found in flea markets and secondhand stores. One style has the arm cast in the shape of a cobra. (Don Hogan Charles/The New York Times)\n"
     ]
    }
   ],
   "source": [
    "# 4) What's the title of the first story to mention the word 'hipster' in 1995? What's the first paragraph?\n",
    "url = \"https://api.nytimes.com/svc/search/v2/articlesearch.json\"\n",
    "url += \"?api-key=71621eb479f045bf8bee783b6943fdd4\"\n",
    "url += \"&q=hipster\"\n",
    "url += \"&begin_date=19950101\"\n",
    "url += \"&sort=oldest\"\n",
    "response = requests.get(url)\n",
    "data = response.json()\n",
    "print(data['response']['docs'][0]['headline']['main'])\n",
    "print(data['response']['docs'][0]['lead_paragraph'])"
   ]
  },
  {
   "cell_type": "code",
   "execution_count": 5,
   "metadata": {
    "collapsed": false
   },
   "outputs": [
    {
     "name": "stdout",
     "output_type": "stream",
     "text": [
      "1960 - 1969 : 0 hits found.\n",
      "1970 - 1979 : 0 hits found.\n",
      "1980 - 1989 : 3 hits found.\n",
      "1990 - 1999 : 138 hits found.\n",
      "2000 - 2009 : 2513 hits found.\n",
      "2010 - 2019 : 4935 hits found.\n"
     ]
    }
   ],
   "source": [
    "# 5) How many times was gay marriage mentioned in the NYT between\n",
    "# 1950-1959, 1960-1969, 1970-1978, 1980-1989, 1990-2099, 2000-2009, and 2010-present?\n",
    "# Tip: You'll want to put quotes around the search term so it isn't just looking for \"gay\" and \"marriage\" in the same article. \n",
    "# Tip: Write code to find the number of mentions between Jan 1, 1950 and Dec 31, 1959.\n",
    "\n",
    "def marriageHits(beginDate, endDate = 0):\n",
    "    beginString = str(beginDate) + \"0101\"\n",
    "    endString = str(beginDate+9)+\"1231\"\n",
    "\n",
    "    if not endDate == 0: # custom end date\n",
    "        endString = str(endDate)+1231\n",
    "    \n",
    "    url = \"https://api.nytimes.com/svc/search/v2/articlesearch.json\"\n",
    "    url += \"?api-key=71621eb479f045bf8bee783b6943fdd4\"\n",
    "    url += '&q=\"gay marriage\"'\n",
    "    url += \"&begin_date=\"+beginString\n",
    "    url += \"&end_date=\"+endString\n",
    "\n",
    "    response = requests.get(url)\n",
    "    data = response.json()\n",
    "    print(beginDate, \"-\", (beginDate+9), \":\", data['response']['meta']['hits'], \"hits found.\")\n",
    "\n",
    "    return\n",
    "\n",
    "for year in range(1960, 2020, 10):\n",
    "    marriageHits(year)\n"
   ]
  },
  {
   "cell_type": "code",
   "execution_count": 6,
   "metadata": {
    "collapsed": false
   },
   "outputs": [
    {
     "name": "stdout",
     "output_type": "stream",
     "text": [
      "The section which talks about motorcycles the most is “World” with 1078 hits.\n"
     ]
    }
   ],
   "source": [
    "# 6) What section talks about motorcycles the most?\n",
    "# Tip: You'll be using facets\n",
    "\n",
    "# \"facet_field\" - see http://developer.nytimes.com/article_search_v2.json#/Documentation/GET/articlesearch.json\n",
    " \n",
    "url = \"https://api.nytimes.com/svc/search/v2/articlesearch.json\"\n",
    "url += \"?api-key=71621eb479f045bf8bee783b6943fdd4\"\n",
    "url += \"&q=motorcycles\"\n",
    "url += \"&facet_field=section_name\"\n",
    "response = requests.get(url)\n",
    "data = response.json()\n",
    "\n",
    "sections = data['response']['facets']['section_name']['terms']\n",
    "#for section in sections:\n",
    "#    print(section['term'], section['count'])\n",
    "\n",
    "# Result sorted by count, so we display the first item.\n",
    "print(\"The section which talks about motorcycles the most is\", \"“\" + sections[0]['term'] + \"”\", \"with\", sections[0]['count'], \"hits.\")"
   ]
  },
  {
   "cell_type": "code",
   "execution_count": 7,
   "metadata": {
    "collapsed": false
   },
   "outputs": [
    {
     "name": "stdout",
     "output_type": "stream",
     "text": [
      "The last 20 movies reviewed by the NYT contains 8 critick picks.\n",
      "The last 40 movies reviewed by the NYT contains 14 critick picks.\n",
      "The last 60 movies reviewed by the NYT contains 22 critick picks.\n",
      "A. O. SCOTT has written the most reviews.\n"
     ]
    }
   ],
   "source": [
    "# 7) How many of the last 20 movies reviewed by the NYT were Critics' Picks? How about the last 40? The last 60?\n",
    "\n",
    "# Movie reviews: http://developer.nytimes.com/movie_reviews_v2.json -> /reviews/search.json -> \"critics-pick\"\n",
    "\n",
    "\n",
    "offset = [0, 20, 40]\n",
    "list_names = [\"last 20\", \"last 40\", \"last 60\"]\n",
    "author_list = []\n",
    "\n",
    "\n",
    "def getReviews(offset):\n",
    "    url = \"https://api.nytimes.com/svc/movies/v2/reviews/search.json\"\n",
    "    url += \"?api-key=71621eb479f045bf8bee783b6943fdd4\"\n",
    "    url += '&offset=' + str(offset)\n",
    "\n",
    "    response = requests.get(url)\n",
    "    return response.json()\n",
    "\n",
    "total_picks = 0\n",
    "\n",
    "for i in range(0, 3):\n",
    "    temp_reviews = getReviews(offset[i])\n",
    "    for review in temp_reviews['results']:\n",
    "#        print(review['headline'], review['critics_pick']) # to test the results\n",
    "        total_picks += review['critics_pick']\n",
    "        if(i <2): #only in range 0-40\n",
    "            author_list.append(review['byline'])\n",
    "\n",
    "    print(\"The\", list_names[i], \"movies reviewed by the NYT contains\", total_picks, \"critick picks.\")\n",
    "\n",
    "# 8) Out of the last 40 movie reviews from the NYT, which critic has written the most reviews?\n",
    "\n",
    "# set([iterable]): https://docs.python.org/3.5/library/stdtypes.html?highlight=set#set\n",
    "# max(iterable, key): https://docs.python.org/3.5/library/functions.html?highlight=max#max\n",
    "# \"The key argument specifies a one-argument ordering function like that used for list.sort()\"\n",
    "print(max(set(author_list), key=author_list.count), \"has written the most reviews.\")\n",
    "\n"
   ]
  }
 ],
 "metadata": {
  "kernelspec": {
   "display_name": "Python 3",
   "language": "python",
   "name": "python3"
  },
  "language_info": {
   "codemirror_mode": {
    "name": "ipython",
    "version": 3
   },
   "file_extension": ".py",
   "mimetype": "text/x-python",
   "name": "python",
   "nbconvert_exporter": "python",
   "pygments_lexer": "ipython3",
   "version": "3.5.1"
  }
 },
 "nbformat": 4,
 "nbformat_minor": 0
}
