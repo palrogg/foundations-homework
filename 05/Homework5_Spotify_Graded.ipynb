{
 "cells": [
  {
   "cell_type": "markdown",
   "metadata": {},
   "source": [
    "Graded = 8/8"
   ]
  },
  {
   "cell_type": "code",
   "execution_count": 1,
   "metadata": {
    "collapsed": false
   },
   "outputs": [],
   "source": [
    "import requests\n",
    "response = requests.get('https://api.spotify.com/v1/search?query=Lil&type=artist&market=US&limit=50')\n",
    "data = response.json()\n"
   ]
  },
  {
   "cell_type": "code",
   "execution_count": 2,
   "metadata": {
    "collapsed": false
   },
   "outputs": [
    {
     "name": "stdout",
     "output_type": "stream",
     "text": [
      "#1 Lil Wayne: 86, dirty south rap, pop rap, southern hip hop, trap music\n",
      "#2 Lil Yachty: 74, no genres listed\n",
      "#3 Lil Uzi Vert: 74, no genres listed\n",
      "#4 Lil Dicky: 69, no genres listed\n",
      "#5 Boosie Badazz: 67, no genres listed\n",
      "#6 Lil Jon: 72, crunk, dirty south rap, southern hip hop\n",
      "#7 King Lil G: 61, no genres listed\n",
      "#8 Lil Durk: 60, no genres listed\n",
      "#9 Lil Jon & The East Side Boyz: 60, no genres listed\n",
      "#10 Lil Bibby: 54, no genres listed\n",
      "#11 G Herbo: 53, no genres listed\n",
      "#12 Lil Rob: 50, chicano rap, latin hip hop\n",
      "#13 Lil Reese: 50, no genres listed\n",
      "#14 Lil Scrappy: 50, crunk, dirty south rap, southern hip hop, trap music\n",
      "#15 Bow Wow: 57, hip pop, pop rap\n",
      "#16 Lil Keke: 48, no genres listed\n",
      "#17 Lil Wyte: 50, juggalo\n",
      "#18 Lil Blood: 46, no genres listed\n",
      "#19 Lil Snupe: 45, no genres listed\n",
      "#20 Lil Mama: 45, hip pop\n",
      "#21 Lil Boom: 46, no genres listed\n",
      "#22 Lil B: 44, no genres listed\n",
      "#23 Lil' Kim: 62, hip pop\n",
      "#24 Lil Cuete: 40, chicano rap\n",
      "#25 Lil Phat: 40, no genres listed\n",
      "#26 Lil Debbie: 43, no genres listed\n",
      "#27 Lil Twist: 40, jerk\n",
      "#28 Lil Trill: 37, deep trap\n",
      "#29 Lil Goofy: 36, no genres listed\n",
      "#30 Lil Lonnie: 37, no genres listed\n",
      "#31 Lil AJ: 37, no genres listed\n",
      "#32 Lil Haiti: 38, no genres listed\n",
      "#33 Lil Cray: 36, no genres listed\n",
      "#34 Lil Twon: 36, no genres listed\n",
      "#35 Mr. Lil One: 36, chicano rap\n",
      "#36 Lil Mouse: 35, no genres listed\n",
      "#37 Lil Silva: 43, no genres listed\n",
      "#38 Lil Yase: 34, no genres listed\n",
      "#39 Lil Flash: 38, no genres listed\n",
      "#40 Lil Suzy: 34, freestyle\n",
      "#41 Lil Eddie: 41, no genres listed\n",
      "#42 Lil Rue: 34, no genres listed\n",
      "#43 Lil Kesh: 39, no genres listed\n",
      "#44 Lil Wayne, DJ Drama: 35, no genres listed\n",
      "#45 Lil C: 33, no genres listed\n",
      "#46 Lil Rick: 39, soca\n",
      "#47 Lil E: 35, no genres listed\n",
      "#48 Lil June: 32, no genres listed\n",
      "#49 Lil Fate: 34, no genres listed\n",
      "#50 Lil' Flip: 50, crunk, dirty south rap\n",
      "\n",
      "\n",
      "The genre “southern hip hop” appears 3 times.\n",
      "The genre “latin hip hop” appears once.\n",
      "The genre “hip pop” appears 3 times.\n",
      "The genre “dirty south rap” appears 4 times.\n",
      "The genre “jerk” appears once.\n",
      "The genre “freestyle” appears once.\n",
      "The genre “pop rap” appears 2 times.\n",
      "The genre “trap music” appears 2 times.\n",
      "The genre “crunk” appears 3 times.\n",
      "The genre “juggalo” appears once.\n",
      "The genre “deep trap” appears once.\n",
      "The genre “soca” appears once.\n",
      "The genre “chicano rap” appears 3 times.\n"
     ]
    }
   ],
   "source": [
    "# 1) With \"Lil Wayne\" and \"Lil Kim\" there are a lot of \"Lil\" musicians. Do a search and print a list of 50 that are playable in the USA (or the country of your choice), along with their popularity score.\n",
    "# 2) What genres are most represented in the search results? Edit your previous printout to also display a list of their genres in the format \"GENRE_1, GENRE_2, GENRE_3\". If there are no genres, print \"No genres listed\".\n",
    "\n",
    "artists = data['artists']['items']\n",
    "genre_list = []\n",
    "count = 1\n",
    "for artist in artists:\n",
    "    genres = 'no genres listed'\n",
    "    if len(artist['genres']) > 0:\n",
    "        genres = str.join(\", \", artist['genres'])\n",
    "        genre_list.extend(artist['genres'])\n",
    "    print(\"#\" + str(count), str(artist['name']) + \":\", str(artist['popularity']) + \",\", genres)\n",
    "    count += 1\n",
    "\n",
    "print(\"\\n\")\n",
    "for genre in set(genre_list):\n",
    "    theCount = genre_list.count(genre)\n",
    "    if theCount == 1:\n",
    "        print(\"The genre\", \"“\" + genre + \"”\", \"appears once.\")\n",
    "    else:\n",
    "        print(\"The genre\", \"“\" + genre + \"”\", \"appears\", theCount, \"times.\")\n",
    "\n"
   ]
  },
  {
   "cell_type": "code",
   "execution_count": 3,
   "metadata": {
    "collapsed": false
   },
   "outputs": [
    {
     "name": "stdout",
     "output_type": "stream",
     "text": [
      "The most popular besides Lil Wayne is Lil Yachty.\n",
      "She has 43887 followers.\n",
      "With 257190 followers, Lil Jon has the largest number of followers.\n",
      "Following artists are more popular than Lil' Kim: Lil Wayne, Lil Yachty, Lil Uzi Vert, Lil Dicky, Boosie Badazz, Lil Jon.\n"
     ]
    }
   ],
   "source": [
    "# 3) Use a for loop to determine who BESIDES Lil Wayne has the highest popularity rating.\n",
    "# Is it the same artist who has the largest number of followers?\n",
    "\n",
    "# we scan the 'popularity' and 'followers' values\n",
    "max_popularity = 0\n",
    "most_popular_index = 0\n",
    "max_followers = 0\n",
    "most_followers_index = 0\n",
    "\n",
    "max_range = len(artists)-1\n",
    "\n",
    "for index in range(1, max_range): # we start at 1 to skip Lil Wayne\n",
    "    if artists[index]['popularity'] > max_popularity:\n",
    "        max_popularity = artists[index]['popularity']\n",
    "        most_popular_index = index\n",
    "    if artists[index]['followers']['total'] > max_followers:\n",
    "        max_followers = artists[index]['followers']['total']\n",
    "        most_followers_index = index\n",
    "\n",
    "print(\"The most popular besides Lil Wayne is\", str(artists[most_popular_index]['name']) + \".\")\n",
    "print(\"She has\", artists[most_popular_index]['followers']['total'], \"followers.\")\n",
    "print(\"With\", artists[most_followers_index]['followers']['total'], \"followers,\", artists[most_followers_index]['name'], 'has the largest number of followers.')\n",
    "\n",
    "# 4) Print a list of Lil's that are more popular than Lil' Kim.\n",
    "\n",
    "# Lik' Kim has a popularity of 62.\n",
    "\n",
    "more_popular = []\n",
    "for artist in artists:\n",
    "    if artist['popularity'] > 62:\n",
    "        more_popular.append(artist['name'])\n",
    "print(\"Following artists are more popular than Lil' Kim:\", str.join(', ', more_popular) + \".\")\n"
   ]
  },
  {
   "cell_type": "code",
   "execution_count": 4,
   "metadata": {
    "collapsed": false
   },
   "outputs": [
    {
     "name": "stdout",
     "output_type": "stream",
     "text": [
      "Lil Uzi Vert's top tracks: Money Longer, You Was Right, Top, Ps & Qs, 7am, Canadian Goose, Hi Roller, All My Chains, Baby Are You Home, Grab the Wheel\n",
      "Lil Boat's top tracks: One Night (Extended), Minnesota (Remix) [feat. Quavo, Skippa da Flippa & Young Thug], Wanna Be Us (feat. Burberry Perry), Intro (Just Keep Swimming), Up Next 2 (feat. Big Brutha Chubba & Byou), Good Day (feat. Skippa da Flippa), Not My Bro, Fucked Over, Out Late, Interlude\n"
     ]
    }
   ],
   "source": [
    "# 5) Pick two of your favorite Lils to fight it out, and use their IDs to print out their top tracks.\n",
    "# Tip: You're going to be making two separate requests, be sure you DO NOT save them into the same variable.\n",
    "\n",
    "lil_1 = requests.get('https://api.spotify.com/v1/artists/4O15NlyKLIASxsJ0PrXPfz/top-tracks?country=US')\n",
    "lil_1_data = lil_1.json()\n",
    "\n",
    "lil_1_topTracks = []\n",
    "for topTrack in lil_1_data['tracks']:\n",
    "    lil_1_topTracks.append(topTrack['name'])\n",
    "\n",
    "print(\"Lil Uzi Vert's top tracks:\", str.join(', ', lil_1_topTracks))\n",
    "\n",
    "lil_2 = requests.get('https://api.spotify.com/v1/artists/6icQOAFXDZKsumw3YXyusw/top-tracks?country=US')\n",
    "lil_2_data = lil_2.json()\n",
    "\n",
    "lil_2_topTracks = []\n",
    "for topTrack in lil_2_data['tracks']:\n",
    "    lil_2_topTracks.append(topTrack['name'])\n",
    "\n",
    "print(\"Lil Boat's top tracks:\", str.join(', ', lil_2_topTracks))\n"
   ]
  },
  {
   "cell_type": "code",
   "execution_count": 5,
   "metadata": {
    "collapsed": false
   },
   "outputs": [
    {
     "name": "stdout",
     "output_type": "stream",
     "text": [
      "The average popularity of Lil Uzi Vert's explicit tracks is 67.0 and the average popularity of her non-explicit tracks is 0.\n",
      "Lil Uzi Vert has 37.82 minutes of explicit songs and 0.00 of non-explicit songs.\n",
      "The average popularity of Lil Boat's explicit tracks is 60.4 and the average popularity of her non-explicit tracks is 0.\n",
      "Lil Boat has 31.16 minutes of explicit songs and 0.00 of non-explicit songs.\n"
     ]
    }
   ],
   "source": [
    "# 6) Will the world explode if a musicians swears?\n",
    "# Get an average popularity for their explicit songs vs. their non-explicit songs.\n",
    "\n",
    "tracks_count_Vert = {'exp': 0, 'non-exp': 0}\n",
    "tracks_popularity_Vert = {'exp': 0, 'non-exp': 0}\n",
    "tracks_ms_Vert = {'exp': 0, 'non-exp': 0}\n",
    "\n",
    "for topTrack in lil_1_data['tracks']:\n",
    "    if topTrack['explicit'] == True:\n",
    "        tracks_count_Vert['exp'] += 1\n",
    "        tracks_popularity_Vert['exp'] += topTrack['popularity'] # currently: a sum\n",
    "        tracks_ms_Vert['exp'] += topTrack['duration_ms']\n",
    "    else:\n",
    "        tracks_count_Vert['non-exp'] += 1\n",
    "        tracks_popularity_Vert['non-exp'] += topTrack['popularity'] # currently: a sum\n",
    "        tracks_ms_Vert['non-exp'] += topTrack['duration_ms']\n",
    "\n",
    "if tracks_count_Vert['exp'] > 0: # prevent division by 0\n",
    "    tracks_popularity_Vert['exp'] /= tracks_count_Vert['exp']\n",
    "\n",
    "if tracks_count_Vert['non-exp'] > 0:\n",
    "    tracks_popularity_Vert['non-exp'] /= tracks_count_Vert['non-exp']\n",
    "\n",
    "print(\"The average popularity of Lil Uzi Vert's explicit tracks is\", tracks_popularity_Vert['exp'], \"and the average popularity of her non-explicit tracks is\", str(tracks_popularity_Vert['non-exp']) + '.')\n",
    "\n",
    "# How many minutes of explicit songs do they have? Non-explicit?\n",
    "\n",
    "print(\"Lil Uzi Vert has\", \"%.2f\" % (tracks_ms_Vert['exp']/60000), \"minutes of explicit songs and\", \"%.2f\" % (tracks_ms_Vert['non-exp']/60000), \"of non-explicit songs.\")\n",
    "\n",
    "\n",
    "tracks_count_Boat = {'exp': 0, 'non-exp': 0}\n",
    "tracks_popularity_Boat = {'exp': 0, 'non-exp': 0}\n",
    "tracks_ms_Boat = {'exp': 0, 'non-exp': 0}\n",
    "\n",
    "for topTrack in lil_2_data['tracks']:\n",
    "    if topTrack['explicit'] == True:\n",
    "        tracks_count_Boat['exp'] += 1\n",
    "        tracks_popularity_Boat['exp'] += topTrack['popularity'] # currently: a sum\n",
    "        tracks_ms_Boat['exp'] += topTrack['duration_ms']\n",
    "    else:\n",
    "        tracks_count_Boat['non-exp'] += 1\n",
    "        tracks_popularity_Boat['non-exp'] += topTrack['popularity'] # currently: a sum\n",
    "        tracks_ms_Boat['non-exp'] += topTrack['duration_ms']\n",
    "\n",
    "if tracks_count_Boat['exp'] > 0: # prevent division by 0\n",
    "    tracks_popularity_Boat['exp'] /= tracks_count_Boat['exp']\n",
    "\n",
    "if tracks_count_Boat['non-exp'] > 0:\n",
    "    tracks_popularity_Boat['non-exp'] /= tracks_count_Boat['non-exp']\n",
    "\n",
    "print(\"The average popularity of Lil Boat's explicit tracks is\", tracks_popularity_Boat['exp'], \"and the average popularity of her non-explicit tracks is\", str(tracks_popularity_Boat['non-exp']) + '.')\n",
    "\n",
    "# How many minutes of explicit songs do they have? Non-explicit?\n",
    "\n",
    "print(\"Lil Boat has\", \"%.2f\" % (tracks_ms_Boat['exp']/60000), \"minutes of explicit songs and\", \"%.2f\" % (tracks_ms_Boat['non-exp']/60000), \"of non-explicit songs.\")\n",
    "\n"
   ]
  },
  {
   "cell_type": "code",
   "execution_count": 6,
   "metadata": {
    "collapsed": false
   },
   "outputs": [
    {
     "name": "stdout",
     "output_type": "stream",
     "text": [
      "There is 4526 results for “Lil” and 50 for “Biggie”.\n",
      "It would take about 5657.5 hours to get the results for the “Lil” and 62.5 hours for the “Biggie”.\n"
     ]
    }
   ],
   "source": [
    "# 7) Since we're talking about Lils, what about Biggies? How many total \"Biggie\" artists are there? How many total \"Lil\"s?\n",
    "# If you made 1 request every 5 seconds, how long would it take to download information on all the Lils vs the Biggies?\n",
    "\n",
    "# to be fair, we target the US market again\n",
    "responseBig = requests.get('https://api.spotify.com/v1/search?query=Biggie&type=artist&market=US&limit=50')\n",
    "dataBig = responseBig.json()\n",
    "\n",
    "print(\"There is\", data['artists']['total'], \"results for “Lil” and\", dataBig['artists']['total'], \"for “Biggie”.\")\n",
    "\n",
    "\n",
    "print(\"It would take about\", (data['artists']['total']*4500)/3600, \"hours to get the results for the “Lil” and\", (dataBig['artists']['total']*4500)/3600, \"hours for the “Biggie”.\")"
   ]
  },
  {
   "cell_type": "code",
   "execution_count": 7,
   "metadata": {
    "collapsed": false
   },
   "outputs": [
    {
     "name": "stdout",
     "output_type": "stream",
     "text": [
      "The top 50 “Lil” is more popular, with an average popularity of 46.7 vs. 19.5 for the 49 “Biggie”.\n"
     ]
    }
   ],
   "source": [
    "# 8) Out of the top 50 \"Lil\"s and the top 50 \"Biggie\"s, who is more popular on average?\n",
    "\n",
    "artistsBig = dataBig['artists']['items']\n",
    "\n",
    "sumPopLil = 0\n",
    "for artistLil in artists:\n",
    "    sumPopLil += artistLil['popularity']\n",
    "\n",
    "sumPopBig = 0\n",
    "for artistBig in artistsBig:\n",
    "    sumPopBig += artistBig['popularity']\n",
    "\n",
    "print(\"The top 50 “Lil” is more popular, with an average popularity of\", sumPopLil / len(artists), \"vs.\", str(sumPopBig / len(artistBig)) + \" for the 49 “Biggie”.\")\n",
    "\n"
   ]
  },
  {
   "cell_type": "code",
   "execution_count": null,
   "metadata": {
    "collapsed": false,
    "scrolled": true
   },
   "outputs": [],
   "source": [
    "# LIL' GRAPHICS\n",
    "# # Just a simple bar graph of their various popularities sounds good to me.\n",
    "\n",
    "# NB: Maybe you'll need to run this code twice in order for d3.js to be fully loaded\n",
    "\n",
    "from IPython.display import display, HTML\n",
    "\n",
    "artistNames = []\n",
    "artistPop = []\n",
    "for artistLil in artists:\n",
    "    artistNames.append(artistLil['name'])\n",
    "    artistPop.append(artistLil['popularity'])\n",
    "    \n",
    "html = []\n",
    "html.append('<style>.chart div {  font: 10px sans-serif;  background-color: steelblue;  text-align: right;  padding: 3px;  margin: 1px;  color: white;}</style><div class=\"chart\"></div><script src=\"http://d3js.org/d3.v3.min.js\"></script>')\n",
    "html.append('<script>')\n",
    "html.append('var lil_data = ' + str(artistPop) + ';')\n",
    "html.append('var lil_names = ' + str(artistNames) + ';')\n",
    "html.append('var x = d3.scale.linear()    .domain([0, d3.max(lil_data)])    .range([0, 420]);d3.select(\".chart\")  .selectAll(\"div\")    .data(lil_data)  .enter().append(\"div\")    .style(\"width\", function(d) { return x(d) + \"px\"; })    .text(function(d, i) { return lil_names[i] + \": \" + d; });</script></body></html>')\n",
    "\n",
    "d3Graph = str.join('', html)\n",
    "\n",
    "# Uncomment next line to generate the graph dynamically:\n",
    "#display(HTML(d3Graph))\n",
    "\n"
   ]
  },
  {
   "cell_type": "markdown",
   "metadata": {},
   "source": [
    "Screen capture of the graph for the static page:\n",
    "\n",
    "![screen capture](https://raw.githubusercontent.com/palrogg/foundations-homework/master/05/screen.png)"
   ]
  },
  {
   "cell_type": "code",
   "execution_count": null,
   "metadata": {
    "collapsed": false
   },
   "outputs": [],
   "source": [
    "# SEARCH ENGINE\n",
    "# \n",
    "# Make a non-IPython Notebook that automates browsing for top tracks\n",
    "# Prompts for an artist\n",
    "\n",
    "requested_artist = input(\"Search for…\\n\")\n",
    "search_result = requests.get('https://api.spotify.com/v1/search?query=' + requested_artist + '&type=artist')\n",
    "search_result_data = search_result.json()\n",
    "artists_result = search_result_data['artists']['items']\n",
    "length_result = len(artists_result)\n",
    "print(length_result, \"results!\")\n",
    "for i in range(1, length_result+1):\n",
    "    print('#' + str(i), artists_result[i-1]['name'])\n",
    "\n",
    "# you put it in, displays the results, asks which one you want (numbered)\n",
    "wanted_artist = input(\"\\nWhich one do you want?\\n\")\n",
    "\n",
    "# Never trust users\n",
    "try:\n",
    "    wanted_artist_int = int(wanted_artist)-1\n",
    "except ValueError:\n",
    "    print(\"Next time, please choose an integer. I picked up number 1 for you.\")\n",
    "    wanted_artist_int = 0\n",
    "\n",
    "if wanted_artist_int < 0 or wanted_artist_int > length_result-1:\n",
    "    print(\"This number is out of range.\")\n",
    "else:\n",
    "    wanted_artist_id = artists_result[wanted_artist_int]['id']\n",
    "    print(\"\\nRetrieving information about\", artists_result[wanted_artist_int]['name'] + \"...\\n\")\n",
    "    \n",
    "# Display their top tracks\n",
    "    wanted_tracks = requests.get('https://api.spotify.com/v1/artists/' + wanted_artist_id + '/top-tracks?country=US')\n",
    "    wanted_tracks_data = wanted_tracks.json()\n",
    "    theTrackResults = []\n",
    "    for topTrack in wanted_tracks_data['tracks']:\n",
    "        theTrackResults.append(topTrack['name'])\n",
    "    if len(theTrackResults) > 1:\n",
    "        print(\"Top tracks:\", str.join(', ', theTrackResults))\n",
    "    else:\n",
    "        print(\"Top track:\", str.join(', ', theTrackResults))\n",
    "\n",
    "    # Their MOST popular album and their least popular album.\n",
    "    \n",
    "    # 1) We retreive the ids of the albums\n",
    "    wanted_albums = requests.get('https://api.spotify.com/v1/artists/' + wanted_artist_id + '/albums')\n",
    "    wanted_albums_data = wanted_albums.json()\n",
    "    album_id_list = []\n",
    "    for album in wanted_albums_data['items']:\n",
    "        album_id_list.append(album['id'])\n",
    "\n",
    "    # 2) We load these albums to get their popularity\n",
    "    search_result = requests.get('https://api.spotify.com/v1/albums/?ids=' + str.join(',',album_id_list))\n",
    "    search_result_data = search_result.json()\n",
    "    albums = search_result_data['albums']\n",
    "\n",
    "    album_hits = len(albums)\n",
    "    if(album_hits) < 1:\n",
    "        print(\"No album could be retrieved.\")\n",
    "    elif(album_hits) == 1:\n",
    "        print(\"This artist has only one album on Spotify: “\" + str(albums[0]['name']) + \"”.\")\n",
    "    else:    \n",
    "        album_popularity = []\n",
    "        album_name = []\n",
    "        for album in albums:\n",
    "            album_popularity.append(album['popularity'])\n",
    "            album_name.append(album['name'])\n",
    "        \n",
    "        print(\"\\n\" + str(album_hits), \"albums found.\")\n",
    "        most_popular_album_index = album_popularity.index(max(album_popularity))\n",
    "        least_popular_album_index = album_popularity.index(min(album_popularity))\n",
    "        \n",
    "        \n",
    "        print(\"The album “\" + album_name[most_popular_album_index] + \"” is the most popular, with a popularity score of\", str(album_popularity[most_popular_album_index]) + \".\")\n",
    "        print(\"The album “\" + album_name[least_popular_album_index] + \"” is the least popular, with a popularity score of\", str(album_popularity[least_popular_album_index]) + \".\")"
   ]
  }
 ],
 "metadata": {
  "kernelspec": {
   "display_name": "Python 3",
   "language": "python",
   "name": "python3"
  },
  "language_info": {
   "codemirror_mode": {
    "name": "ipython",
    "version": 3
   },
   "file_extension": ".py",
   "mimetype": "text/x-python",
   "name": "python",
   "nbconvert_exporter": "python",
   "pygments_lexer": "ipython3",
   "version": "3.5.1"
  }
 },
 "nbformat": 4,
 "nbformat_minor": 0
}
