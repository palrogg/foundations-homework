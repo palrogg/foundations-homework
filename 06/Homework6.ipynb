{
 "cells": [
  {
   "cell_type": "code",
   "execution_count": 2,
   "metadata": {
    "collapsed": true
   },
   "outputs": [],
   "source": [
    "import requests\n",
    "key = 'b2e7648e58673111d1f5e5fa41e8fbaf'\n",
    "base = 'https://api.forecast.io/forecast/' + key + \"/\""
   ]
  },
  {
   "cell_type": "code",
   "execution_count": 3,
   "metadata": {
    "collapsed": false
   },
   "outputs": [
    {
     "name": "stdout",
     "output_type": "stream",
     "text": [
      "Check: lat/long = 46.229058/6.077243, timezone = Europe/Zurich\n",
      "The current wind speed is 7.85\n",
      "It feels exactly as warm as it is.\n",
      "16.0% of the moon is visible today.\n",
      "The difference between maximal and minimal temperatures is 15.65 °F today.\n"
     ]
    }
   ],
   "source": [
    "# 1) Make a request from the Forecast.io API for where you were born (or lived, or want to visit!).\n",
    "# https://developer.forecast.io/docs/v2 \n",
    "\n",
    "url = base + '46.229058,6.077243'\n",
    "response = requests.get(url)\n",
    "data1 = response.json()\n",
    "\n",
    "print(\"Check: lat/long =\", str(data1['latitude']) + \"/\" + str(data1['longitude']) + ',', \"timezone =\", data1['timezone'])\n",
    " \n",
    "# 2) What's the current wind speed? How much warmer does it feel than it actually is?\n",
    "print(\"The current wind speed is\", data1['currently']['windSpeed'])\n",
    "\n",
    "deltaWarm = data1['currently']['temperature'] - data1['currently']['apparentTemperature']\n",
    "if deltaWarm > 0:\n",
    "    print(\"It feels\", deltaWarm, \"°F warmer than it is.\")\n",
    "elif deltaWarm == 0:\n",
    "    print(\"It feels exactly as warm as it is.\")\n",
    "else:\n",
    "    print(\"It feels\", -deltaWarm, \"°F colder than it is.\")\n",
    "\n",
    "# 3) The first daily forecast is the forecast for today. For the place you decided on up above, how much of the moon is currently visible?\n",
    "todayforecast = data1['daily']['data'][0]\n",
    "\n",
    "print(str(todayforecast['moonPhase']*100) +\"%\", \"of the moon is visible today.\")\n",
    "\n",
    "# 4) What's the difference between the high and low temperatures for today?\n",
    "print(\"The difference between maximal and minimal temperatures is\", \"%.2f °F\" % (todayforecast['temperatureMax'] - todayforecast['temperatureMin']), \"today.\")\n",
    "\n"
   ]
  },
  {
   "cell_type": "code",
   "execution_count": 16,
   "metadata": {
    "collapsed": false
   },
   "outputs": [
    {
     "name": "stdout",
     "output_type": "stream",
     "text": [
      "Wednesday, June 08, 2016: warm, 63.1 °F\n",
      "Thursday, June 09, 2016: warm, 74.78 °F\n",
      "Friday, June 10, 2016: warm, 62.19 °F\n",
      "Saturday, June 11, 2016: warm, 65.66 °F\n",
      "Sunday, June 12, 2016: warm, 66.91 °F\n",
      "Monday, June 13, 2016: warm, 64.27 °F\n",
      "Tuesday, June 14, 2016: warm, 66.31 °F\n",
      "Wednesday, June 15, 2016: warm, 63.58 °F\n"
     ]
    }
   ],
   "source": [
    "# 5) Loop through the daily forecast, printing out the next week's worth of predictions.\n",
    "# I'd like to know the high temperature for each day, and whether it's hot, warm, or cold, based on what temperatures you think are hot, warm or cold.\n",
    "import time\n",
    "\n",
    "forecast = data1['daily']['data']\n",
    "\n",
    "for item in forecast:\n",
    "    temperatureString = ''\n",
    "    if item['temperatureMax'] > 80:\n",
    "        temperatureString = 'hot'\n",
    "    elif item['temperatureMax'] > 50:\n",
    "        temperatureString = 'warm'\n",
    "    else:\n",
    "        temperatureString = 'cold'\n",
    "    temperatureString += \", \" + str(item['temperatureMax']) + ' °F'\n",
    "\n",
    "    print(time.strftime('%A, %B %d, %Y:', time.localtime(item['time'])), temperatureString)"
   ]
  },
  {
   "cell_type": "code",
   "execution_count": 17,
   "metadata": {
    "collapsed": false
   },
   "outputs": [
    {
     "name": "stdout",
     "output_type": "stream",
     "text": [
      "June 09,  2 PM: 87.06 °F and cloudy\n",
      "June 09,  3 PM: 85.96 °F and cloudy\n",
      "June 09,  4 PM: 85.79 °F and cloudy\n",
      "June 09,  5 PM: 84.84 °F and cloudy\n",
      "June 09,  6 PM: 84.41 °F and cloudy\n",
      "June 09,  7 PM: 83.57 °F and cloudy\n",
      "June 09,  8 PM: 82.37 °F and cloudy\n",
      "June 09,  9 PM: 81.86 °F and cloudy\n",
      "June 09, 10 PM: 81.62 °F and cloudy\n",
      "June 09, 11 PM: 80.87 °F and cloudy\n",
      "June 10, 12 AM: 80.47 °F and cloudy\n"
     ]
    }
   ],
   "source": [
    "# 6) What's the weather looking like for the rest of today in Miami, Florida?\n",
    "# I'd like to know the temperature for every hour\n",
    "# if it's going to have cloud cover of more than 0.5 say \"{temperature} and cloudy\" instead of just the temperature.\n",
    "\n",
    "url_miami = base + '25.761283,-80.190227'\n",
    "response_miami = requests.get(url_miami)\n",
    "data6 = response_miami.json()\n",
    "\n",
    "miamitoday = data6['hourly']['data']\n",
    "\n",
    "todayNb = time.strftime('%d', time.localtime(miamitoday[0]['time']))\n",
    "\n",
    "for item in miamitoday:\n",
    "    if item['cloudCover'] > 0.5:\n",
    "        cloudy = 'and cloudy'\n",
    "    timeString = time.strftime('%B %d, %l %p:', time.localtime(item['time']))\n",
    "    print(timeString, \"%.2f\" % (item['temperature']), \"°F\", cloudy)\n",
    "\n",
    "    if int(time.strftime('%H', time.localtime(item['time']))) == 0: # we stop at midnight\n",
    "        break\n",
    "\n",
    "\n"
   ]
  },
  {
   "cell_type": "code",
   "execution_count": 98,
   "metadata": {
    "collapsed": false,
    "scrolled": false
   },
   "outputs": [
    {
     "name": "stdout",
     "output_type": "stream",
     "text": [
      "On Christmas Day, 1980, the temperature in Central park was 28.48°F.\n",
      "On Christmas Day, 1990, the temperature in Central park was 30.16°F.\n",
      "On Christmas Day, 2000, the temperature in Central park was 27.03°F.\n"
     ]
    }
   ],
   "source": [
    "# 7) What was the temperature in Central Park on Christmas Day, 1980? How about 1990? 2000?\n",
    "import datetime, time\n",
    "\n",
    "def get_CentralPark_temperature (year):\n",
    "    time = datetime.datetime(year,12,25,0,0).timestamp()\n",
    "    url_park = base + '40.782881,-73.965269,' + str(int(time))\n",
    "    response_park = requests.get(url_park)\n",
    "    data7 = response_park.json()\n",
    " \n",
    "    theString = \"On Christmas Day, \" + str(year) + \", the temperature in Central park was \" + str(data7['currently']['temperature']) + \"°F.\"\n",
    "    print(theString)\n",
    "    return\n",
    "\n",
    "get_CentralPark_temperature(1980)\n",
    "get_CentralPark_temperature(1990)\n",
    "get_CentralPark_temperature(2000)\n",
    "\n",
    "\n",
    "# Tip: You'll need to use UNIX time, which is the number of seconds since January 1, 1970. Google can help you convert a normal date!\n",
    "# Tip: You'll want to use Forecast.io's \"time machine\" API at https://developer.forecast.io/docs/v2\n",
    "\n",
    "\n",
    "\n"
   ]
  }
 ],
 "metadata": {
  "kernelspec": {
   "display_name": "Python 3",
   "language": "python",
   "name": "python3"
  },
  "language_info": {
   "codemirror_mode": {
    "name": "ipython",
    "version": 3
   },
   "file_extension": ".py",
   "mimetype": "text/x-python",
   "name": "python",
   "nbconvert_exporter": "python",
   "pygments_lexer": "ipython3",
   "version": "3.5.1"
  }
 },
 "nbformat": 4,
 "nbformat_minor": 0
}
