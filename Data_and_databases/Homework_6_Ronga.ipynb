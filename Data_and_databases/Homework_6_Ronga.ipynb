{
 "cells": [
  {
   "cell_type": "markdown",
   "metadata": {},
   "source": [
    "# Homework 6: Web Applications\n",
    "\n",
    "For this homework, you're going to write a web API for the lake data in the MONDIAL database. (Make sure you've imported the data as originally outlined in [our week 1 tutorial](https://github.com/ledeprogram/data-and-databases/blob/master/SQL_notes.md).)\n",
    "\n",
    "The API should perform the following tasks:\n",
    "\n",
    "* A request to `/lakes` should return a JSON list of dictionaries, with the information from the `name`, `elevation`, `area` and `type` fields from the `lake` table in MONDIAL.\n",
    "* The API should recognize the query string parameter `sort`. When left blank or set to `name`, the results should be sorted by the name of the lake (in alphabetical order). When set to `area` or `elevation`, the results should be sorted by the requested field, in *descending* order.\n",
    "* The API should recognize the query string parameter `type`. When specified, the results should *only* include rows that have the specified value in the `type` field.\n",
    "* You should be able to use *both* the `sort` and `type` parameters in any request.\n",
    "\n",
    "This notebook contains only *test requests to your API*. Write the API as a standalone Python program, start the program and then run the code in the cells below to ensure that your API produces the expected output. When you're done, paste the source code in the final cell (so we can check your work, if needed).\n",
    "\n",
    "Hints when writing your API code:\n",
    "\n",
    "* You'll need to construct the SQL query as a string, piece by piece. This will likely involve a somewhat messy tangle of `if` statements. Lean into the messy tangle.\n",
    "* Make sure to use parameter placeholders (%s) in the query.\n",
    "* If you're getting SQL errors, print out your SQL statement in the request handler function so you can debug it. (When you use `print()` in Flask, the results will display in your terminal window.)\n",
    "* When in doubt, return to the test code. Examine it carefully and make sure you know exactly what it's trying to do.\n",
    "\n",
    "## Problem set #1: A list of lakes\n",
    "\n",
    "Your API should return a JSON list of dictionaries (objects). Use the code below to determine what the keys of the dictionaries should be. (For brevity, this example only prints out the first ten records, but of course your API should return all of them.)\n",
    "\n",
    "Expected output:\n",
    "\n",
    "    143 lakes\n",
    "    Ammersee - elevation: 533 m / area: 46 km^2 / type: None\n",
    "    Arresoe - elevation: None m / area: 40 km^2 / type: None\n",
    "    Atlin Lake - elevation: 668 m / area: 798 km^2 / type: None\n",
    "    Balaton - elevation: 104 m / area: 594 km^2 / type: None\n",
    "    Barrage de Mbakaou - elevation: None m / area: None km^2 / type: dam\n",
    "    Bodensee - elevation: 395 m / area: 538 km^2 / type: None\n",
    "    Brienzersee - elevation: 564 m / area: 29 km^2 / type: None\n",
    "    Caspian Sea - elevation: -28 m / area: 386400 km^2 / type: salt\n",
    "    Chad Lake - elevation: 250 m / area: 23000 km^2 / type: salt\n",
    "    Chew Bahir - elevation: 520 m / area: 800 km^2 / type: salt"
   ]
  },
  {
   "cell_type": "code",
   "execution_count": 17,
   "metadata": {
    "collapsed": false
   },
   "outputs": [
    {
     "name": "stdout",
     "output_type": "stream",
     "text": [
      "143 lakes\n",
      "Inari - elevation: 119 m / area: 1040 km^2 / type: None\n",
      "Oulujaervi - elevation: 123 m / area: 928 km^2 / type: None\n",
      "Kallavesi - elevation: None m / area: 472 km^2 / type: None\n",
      "Saimaa - elevation: 76 m / area: 4370 km^2 / type: None\n",
      "Paeijaenne - elevation: 78 m / area: 1118 km^2 / type: None\n",
      "Mjoesa-See - elevation: 123 m / area: 368 km^2 / type: None\n",
      "Storuman - elevation: 419 m / area: 173 km^2 / type: None\n",
      "Siljan - elevation: 161 m / area: 290 km^2 / type: impact\n",
      "Maelaren - elevation: 0 m / area: 1140 km^2 / type: None\n",
      "Vaenern - elevation: 44 m / area: 5648 km^2 / type: None\n"
     ]
    }
   ],
   "source": [
    "import requests\n",
    "data = requests.get('http://localhost:5000/lakes').json()\n",
    "print(len(data), \"lakes\")\n",
    "for item in data[:10]:\n",
    "    print(item['name'], \"- elevation:\", item['elevation'], \"m / area:\", item['area'], \"km^2 / type:\", item['type'])"
   ]
  },
  {
   "cell_type": "markdown",
   "metadata": {},
   "source": [
    "## Problem set #2: Lakes of a certain type\n",
    "\n",
    "The following code fetches all lakes of type `salt` and finds their average area and elevation.\n",
    "\n",
    "Expected output:\n",
    "\n",
    "    average area: 18880\n",
    "    average elevation: 970"
   ]
  },
  {
   "cell_type": "code",
   "execution_count": 18,
   "metadata": {
    "collapsed": false
   },
   "outputs": [
    {
     "name": "stdout",
     "output_type": "stream",
     "text": [
      "average area: 18880\n",
      "average elevation: 970\n"
     ]
    }
   ],
   "source": [
    "import requests\n",
    "data = requests.get('http://localhost:5000/lakes?type=salt').json()\n",
    "avg_area = sum([x['area'] for x in data if x['area'] is not None]) / len(data)\n",
    "avg_elev = sum([x['elevation'] for x in data if x['elevation'] is not None]) / len(data)\n",
    "print(\"average area:\", int(avg_area))\n",
    "print(\"average elevation:\", int(avg_elev))"
   ]
  },
  {
   "cell_type": "markdown",
   "metadata": {},
   "source": [
    "## Problem set #3: Lakes in order\n",
    "\n",
    "The following code fetches lakes in reverse order by their elevation and prints out the name of the first fifteen, excluding lakes with an empty elevation field.\n",
    "\n",
    "Expected output:\n",
    "\n",
    "    * Licancabur Crater Lake\n",
    "    * Nam Co\n",
    "    * Lago Junin\n",
    "    * Lake Titicaca\n",
    "    * Poopo\n",
    "    * Salar de Uyuni\n",
    "    * Koli Sarez\n",
    "    * Lake Irazu\n",
    "    * Qinghai Lake\n",
    "    * Segara Anak\n",
    "    * Lake Tahoe\n",
    "    * Crater Lake\n",
    "    * Lake Tana\n",
    "    * Lake Van\n",
    "    * Issyk-Kul"
   ]
  },
  {
   "cell_type": "code",
   "execution_count": 19,
   "metadata": {
    "collapsed": false
   },
   "outputs": [
    {
     "name": "stdout",
     "output_type": "stream",
     "text": [
      "* Licancabur Crater Lake\n",
      "* Nam Co\n",
      "* Lago Junin\n",
      "* Lake Titicaca\n",
      "* Poopo\n",
      "* Salar de Uyuni\n",
      "* Koli Sarez\n",
      "* Lake Irazu\n",
      "* Qinghai Lake\n",
      "* Segara Anak\n",
      "* Lake Tahoe\n",
      "* Crater Lake\n",
      "* Lake Tana\n",
      "* Lake Van\n",
      "* Issyk-Kul\n"
     ]
    }
   ],
   "source": [
    "import requests\n",
    "data = requests.get('http://localhost:5000/lakes?sort=elevation').json()\n",
    "for item in [x['name'] for x in data if x['elevation'] is not None][:15]:\n",
    "    print(\"*\", item)"
   ]
  },
  {
   "cell_type": "markdown",
   "metadata": {},
   "source": [
    "## Problem set #4: Order and type\n",
    "\n",
    "The following code prints the names of the largest caldera lakes, ordered in reverse order by area.\n",
    "\n",
    "Expected output:\n",
    "\n",
    "    * Lake Nyos\n",
    "    * Lake Toba\n",
    "    * Lago Trasimeno\n",
    "    * Lago di Bolsena\n",
    "    * Lago di Bracciano\n",
    "    * Crater Lake\n",
    "    * Segara Anak\n",
    "    * Laacher Maar"
   ]
  },
  {
   "cell_type": "code",
   "execution_count": 20,
   "metadata": {
    "collapsed": false
   },
   "outputs": [
    {
     "name": "stdout",
     "output_type": "stream",
     "text": [
      "* Lake Nyos\n",
      "* Lake Toba\n",
      "* Lago Trasimeno\n",
      "* Lago di Bolsena\n",
      "* Lago di Bracciano\n",
      "* Crater Lake\n",
      "* Segara Anak\n",
      "* Laacher Maar\n"
     ]
    }
   ],
   "source": [
    "import requests\n",
    "data = requests.get('http://localhost:5000/lakes?sort=area&type=caldera').json()\n",
    "for item in data:\n",
    "    print(\"*\", item['name'])"
   ]
  },
  {
   "cell_type": "markdown",
   "metadata": {},
   "source": [
    "## Problem set #5: Error handling\n",
    "\n",
    "Your API should work fine even when faced with potential error-causing inputs. For example, the expected output for this statement is an empty list (`[]`), *not* every row in the table."
   ]
  },
  {
   "cell_type": "code",
   "execution_count": 21,
   "metadata": {
    "collapsed": false
   },
   "outputs": [
    {
     "data": {
      "text/plain": [
       "[]"
      ]
     },
     "execution_count": 21,
     "metadata": {},
     "output_type": "execute_result"
    }
   ],
   "source": [
    "import requests\n",
    "data = requests.get('http://localhost:5000/lakes', params={'type': \"' OR true; --\"}).json()\n",
    "data"
   ]
  },
  {
   "cell_type": "markdown",
   "metadata": {},
   "source": [
    "Specifying a field other than `name`, `area` or `elevation` for the `sort` parameter should fail silently, defaulting to sorting alphabetically. Expected output: `['Ammersee', 'Arresoe', 'Atlin Lake', 'Balaton', 'Barrage de Mbakaou']\n",
    "`"
   ]
  },
  {
   "cell_type": "code",
   "execution_count": 23,
   "metadata": {
    "collapsed": false
   },
   "outputs": [
    {
     "data": {
      "text/plain": [
       "['Ammersee', 'Arresoe', 'Atlin Lake', 'Balaton', 'Barrage de Mbakaou']"
      ]
     },
     "execution_count": 23,
     "metadata": {},
     "output_type": "execute_result"
    }
   ],
   "source": [
    "import requests\n",
    "data = requests.get('http://localhost:5000/lakes', params={'sort': \"florb\"}).json()\n",
    "[x['name'] for x in data[:5]]"
   ]
  },
  {
   "cell_type": "markdown",
   "metadata": {},
   "source": [
    "## Paste your code\n",
    "\n",
    "Please paste the code for your entire Flask application in the cell below, in case we want to take a look when grading or debugging your assignment."
   ]
  },
  {
   "cell_type": "code",
   "execution_count": null,
   "metadata": {
    "collapsed": true
   },
   "outputs": [],
   "source": [
    "# also on GitHub as “Homework6_api.py”\n",
    "\n",
    "from flask import Flask, request, jsonify\n",
    "import pg8000, decimal\n",
    "import json\n",
    "\n",
    "app = Flask(__name__)\n",
    "\n",
    "def get_data(_type, _sort):\n",
    "    conn = pg8000.connect(user=\"paul\", database=\"mondial\")\n",
    "    cursor = conn.cursor()\n",
    "\n",
    "    sort_result = ''\n",
    "    if _sort == 'name':\n",
    "        sort_result = 'ORDER BY name'\n",
    "    elif _sort in ('area', 'elevation'):\n",
    "        sort_result = 'ORDER BY ' + _sort + ' DESC'\n",
    "\n",
    "    if _type:\n",
    "        sql = \"SELECT name, elevation, area, type FROM lake WHERE type = %s \" + sort_result\n",
    "        cursor.execute(sql, [str(_type)])\n",
    "    else:\n",
    "        sql = \"SELECT name, elevation, area, type FROM lake \" + sort_result\n",
    "        cursor.execute(sql)\n",
    "\n",
    "    # nested function\n",
    "    def get_int(value):\n",
    "        if isinstance(value, decimal.Decimal):\n",
    "            return int(value)\n",
    "        else:\n",
    "            return None\n",
    "\n",
    "    query_result = []\n",
    "    for row in cursor.fetchall():\n",
    "        item = {\n",
    "            \"name\": row[0],\n",
    "            \"elevation\": get_int(row[1]),\n",
    "            \"area\": get_int(row[2]),\n",
    "            \"type\": row[3]\n",
    "        }\n",
    "        query_result.append(item)\n",
    "\n",
    "    return query_result\n",
    "\n",
    "\n",
    "@app.route(\"/lakes\")\n",
    "def getLakes():\n",
    "    lake_type = request.args.get('type', '')\n",
    "    sort_by = request.args.get('sort', '')\n",
    "\n",
    "    if sort_by and sort_by not in ('name', 'elevation', 'area'):\n",
    "        sort_by = 'name'\n",
    "\n",
    "    result = get_data(lake_type, sort_by)\n",
    "\n",
    "    return jsonify(result)\n",
    "\n",
    "app.run()"
   ]
  }
 ],
 "metadata": {
  "kernelspec": {
   "display_name": "Python 3",
   "language": "python",
   "name": "python3"
  },
  "language_info": {
   "codemirror_mode": {
    "name": "ipython",
    "version": 3
   },
   "file_extension": ".py",
   "mimetype": "text/x-python",
   "name": "python",
   "nbconvert_exporter": "python",
   "pygments_lexer": "ipython3",
   "version": "3.5.1"
  }
 },
 "nbformat": 4,
 "nbformat_minor": 0
}
