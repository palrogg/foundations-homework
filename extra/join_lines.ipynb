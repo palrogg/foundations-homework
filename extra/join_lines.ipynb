{
 "cells": [
  {
   "cell_type": "markdown",
   "metadata": {},
   "source": [
    "## Change the filename here\n",
    "The csv file without extension. Its new name will be [filename]-corrected.csv"
   ]
  },
  {
   "cell_type": "code",
   "execution_count": 1,
   "metadata": {
    "collapsed": false
   },
   "outputs": [
    {
     "data": {
      "text/plain": [
       "['\"Alexandre Dumus\\n',\n",
       " 'c\",LAUSANNE,Switzerland,\"Avenue Pierre-De\\n',\n",
       " 'cker 4\",\"\",N/A,N/A,560.00,486.00,\"\",\"\",\"\",\"1,046.00\"\\n',\n",
       " '\"Ana-Luisa Stefans\\n',\n",
       " 'ki\",BERN,Switzerland,\"Freiburgstrasse 1\\n',\n",
       " '8\",\"\",N/A,N/A,560.00,333.00,\"\",\"\",\"\",893.00\\n',\n",
       " 'Andrea Azzola,LUGANO,Switzerland,Via Tesserete 46,\"\",N/A,N/A,280.00,174.50,\"\",\"\",\"\",454.50\\n',\n",
       " 'Angela Oxenius,ZÜRICH,Switzerland,\"Steinwiesstrasse \\n',\n",
       " '75\",\"\",N/A,N/A,206.00,550.33,\"\",\"\",\"\",756.33\\n',\n",
       " '\"Anna Cavigelli-Bru\\n']"
      ]
     },
     "execution_count": 1,
     "metadata": {},
     "output_type": "execute_result"
    }
   ],
   "source": [
    "import re\n",
    "filename = 'tabula-Actelion_transparency-report-2015'\n",
    "file = open(filename+'.csv', 'r')\n",
    "content = file.readlines()\n",
    "content[:10]"
   ]
  },
  {
   "cell_type": "markdown",
   "metadata": {},
   "source": [
    "## Regexp to match the two last digits of each line\n",
    "Change it if your doc has another format"
   ]
  },
  {
   "cell_type": "code",
   "execution_count": 18,
   "metadata": {
    "collapsed": false
   },
   "outputs": [
    {
     "data": {
      "text/plain": [
       "<_sre.SRE_Match object; span=(0, 3), match='.14'>"
      ]
     },
     "execution_count": 18,
     "metadata": {},
     "output_type": "execute_result"
    }
   ],
   "source": [
    "twodigits = re.compile('\\.?\\d{2}\"?$')\n",
    "#re.match(twodigits, '14\"')\n",
    "re.match(twodigits, '.14')"
   ]
  },
  {
   "cell_type": "markdown",
   "metadata": {},
   "source": [
    "## Function to join the broken lines"
   ]
  },
  {
   "cell_type": "code",
   "execution_count": 21,
   "metadata": {
    "collapsed": false
   },
   "outputs": [
    {
     "name": "stdout",
     "output_type": "stream",
     "text": [
      "0) \"Alexandre Dumusc\",LAUSANNE,Switzerland,\"Avenue Pierre-Decker 4\",\"\",N/A,N/A,560.00,486.00,\"\",\"\",\"\",\"1,046.00\"\n",
      "1) \"Ana-Luisa Stefanski\",BERN,Switzerland,\"Freiburgstrasse 18\",\"\",N/A,N/A,560.00,333.00,\"\",\"\",\"\",893.00\n",
      "2) Andrea Azzola,LUGANO,Switzerland,Via Tesserete 46,\"\",N/A,N/A,280.00,174.50,\"\",\"\",\"\",454.50\n",
      "3) Angela Oxenius,ZÜRICH,Switzerland,\"Steinwiesstrasse 75\",\"\",N/A,N/A,206.00,550.33,\"\",\"\",\"\",756.33\n",
      "4) \"Anna Cavigelli-Brunner\",ZÜRICH,Switzerland,\"Steinwiesstrasse 75\",\"\",N/A,N/A,206.00,550.33,\"\",\"\",\"\",756.33\n"
     ]
    }
   ],
   "source": [
    "c = 0\n",
    "def join_broken_lines(line_list):\n",
    "    global c\n",
    "    full_lines = []\n",
    "    full_line = ''\n",
    "    for line in line_list:\n",
    "        full_line += line[:-1]\n",
    "        if len(line) > 1:\n",
    "            if line[-2] == '\"' or re.match(twodigits, line[-4:-1]):\n",
    "#                full_lines.append(str(c)+\") \" + full_line)\n",
    "                full_lines.append(str(c)+\") \" + full_line)\n",
    "                full_line = ''\n",
    "                c += 1\n",
    "    return full_lines\n",
    "\n",
    "result = join_broken_lines(content)\n",
    "print(*result[:5], sep=\"\\n\") # we print the 5 first lines"
   ]
  },
  {
   "cell_type": "markdown",
   "metadata": {},
   "source": [
    "## Save to the new file"
   ]
  },
  {
   "cell_type": "code",
   "execution_count": 22,
   "metadata": {
    "collapsed": false
   },
   "outputs": [],
   "source": [
    "newcontent = str.join(\"\\n\", result)\n",
    "fp = open(filename + '-corrected.csv', 'w')\n",
    "fp.write(newcontent)\n",
    "fp.close()"
   ]
  },
  {
   "cell_type": "code",
   "execution_count": null,
   "metadata": {
    "collapsed": true
   },
   "outputs": [],
   "source": []
  }
 ],
 "metadata": {
  "kernelspec": {
   "display_name": "Python 3",
   "language": "python",
   "name": "python3"
  },
  "language_info": {
   "codemirror_mode": {
    "name": "ipython",
    "version": 3
   },
   "file_extension": ".py",
   "mimetype": "text/x-python",
   "name": "python",
   "nbconvert_exporter": "python",
   "pygments_lexer": "ipython3",
   "version": "3.5.1"
  },
  "widgets": {
   "state": {},
   "version": "1.1.2"
  }
 },
 "nbformat": 4,
 "nbformat_minor": 0
}
